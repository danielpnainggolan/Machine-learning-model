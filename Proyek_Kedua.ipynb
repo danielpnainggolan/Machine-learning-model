{
  "nbformat": 4,
  "nbformat_minor": 0,
  "metadata": {
    "colab": {
      "name": "Proyek Kedua.ipynb",
      "provenance": []
    },
    "kernelspec": {
      "name": "python3",
      "display_name": "Python 3"
    },
    "language_info": {
      "name": "python"
    }
  },
  "cells": [
    {
      "cell_type": "code",
      "metadata": {
        "id": "KXa4DS_7KDPv"
      },
      "source": [
        "#Nama : Daniel Parulian Nainggolan"
      ],
      "execution_count": null,
      "outputs": []
    },
    {
      "cell_type": "code",
      "metadata": {
        "id": "fQ1EDzGbEXFe"
      },
      "source": [
        "import numpy as np\n",
        "import pandas as pd\n",
        "from keras.layers import Dense, LSTM\n",
        "import matplotlib.pyplot as plt\n",
        "import tensorflow as tf"
      ],
      "execution_count": 1,
      "outputs": []
    },
    {
      "cell_type": "code",
      "metadata": {
        "colab": {
          "base_uri": "https://localhost:8080/",
          "height": 226
        },
        "id": "rykcOa0LHeCl",
        "outputId": "271d1526-1016-4a04-fce4-2c97c59bb969"
      },
      "source": [
        "data_train = pd.read_csv('sample_data/bike_sharing_daily.csv')\n",
        "data_train.head()"
      ],
      "execution_count": 30,
      "outputs": [
        {
          "output_type": "execute_result",
          "data": {
            "text/html": [
              "<div>\n",
              "<style scoped>\n",
              "    .dataframe tbody tr th:only-of-type {\n",
              "        vertical-align: middle;\n",
              "    }\n",
              "\n",
              "    .dataframe tbody tr th {\n",
              "        vertical-align: top;\n",
              "    }\n",
              "\n",
              "    .dataframe thead th {\n",
              "        text-align: right;\n",
              "    }\n",
              "</style>\n",
              "<table border=\"1\" class=\"dataframe\">\n",
              "  <thead>\n",
              "    <tr style=\"text-align: right;\">\n",
              "      <th></th>\n",
              "      <th>instant</th>\n",
              "      <th>dteday</th>\n",
              "      <th>season</th>\n",
              "      <th>yr</th>\n",
              "      <th>mnth</th>\n",
              "      <th>holiday</th>\n",
              "      <th>weekday</th>\n",
              "      <th>workingday</th>\n",
              "      <th>weathersit</th>\n",
              "      <th>temp</th>\n",
              "      <th>atemp</th>\n",
              "      <th>hum</th>\n",
              "      <th>windspeed</th>\n",
              "      <th>casual</th>\n",
              "      <th>registered</th>\n",
              "      <th>cnt</th>\n",
              "    </tr>\n",
              "  </thead>\n",
              "  <tbody>\n",
              "    <tr>\n",
              "      <th>0</th>\n",
              "      <td>1</td>\n",
              "      <td>2011-01-01</td>\n",
              "      <td>1</td>\n",
              "      <td>0</td>\n",
              "      <td>1</td>\n",
              "      <td>0</td>\n",
              "      <td>6</td>\n",
              "      <td>0</td>\n",
              "      <td>2</td>\n",
              "      <td>0.344167</td>\n",
              "      <td>0.363625</td>\n",
              "      <td>0.805833</td>\n",
              "      <td>0.160446</td>\n",
              "      <td>331</td>\n",
              "      <td>654</td>\n",
              "      <td>985</td>\n",
              "    </tr>\n",
              "    <tr>\n",
              "      <th>1</th>\n",
              "      <td>2</td>\n",
              "      <td>2011-01-02</td>\n",
              "      <td>1</td>\n",
              "      <td>0</td>\n",
              "      <td>1</td>\n",
              "      <td>0</td>\n",
              "      <td>0</td>\n",
              "      <td>0</td>\n",
              "      <td>2</td>\n",
              "      <td>0.363478</td>\n",
              "      <td>0.353739</td>\n",
              "      <td>0.696087</td>\n",
              "      <td>0.248539</td>\n",
              "      <td>131</td>\n",
              "      <td>670</td>\n",
              "      <td>801</td>\n",
              "    </tr>\n",
              "    <tr>\n",
              "      <th>2</th>\n",
              "      <td>3</td>\n",
              "      <td>2011-01-03</td>\n",
              "      <td>1</td>\n",
              "      <td>0</td>\n",
              "      <td>1</td>\n",
              "      <td>0</td>\n",
              "      <td>1</td>\n",
              "      <td>1</td>\n",
              "      <td>1</td>\n",
              "      <td>0.196364</td>\n",
              "      <td>0.189405</td>\n",
              "      <td>0.437273</td>\n",
              "      <td>0.248309</td>\n",
              "      <td>120</td>\n",
              "      <td>1229</td>\n",
              "      <td>1349</td>\n",
              "    </tr>\n",
              "    <tr>\n",
              "      <th>3</th>\n",
              "      <td>4</td>\n",
              "      <td>2011-01-04</td>\n",
              "      <td>1</td>\n",
              "      <td>0</td>\n",
              "      <td>1</td>\n",
              "      <td>0</td>\n",
              "      <td>2</td>\n",
              "      <td>1</td>\n",
              "      <td>1</td>\n",
              "      <td>0.200000</td>\n",
              "      <td>0.212122</td>\n",
              "      <td>0.590435</td>\n",
              "      <td>0.160296</td>\n",
              "      <td>108</td>\n",
              "      <td>1454</td>\n",
              "      <td>1562</td>\n",
              "    </tr>\n",
              "    <tr>\n",
              "      <th>4</th>\n",
              "      <td>5</td>\n",
              "      <td>2011-01-05</td>\n",
              "      <td>1</td>\n",
              "      <td>0</td>\n",
              "      <td>1</td>\n",
              "      <td>0</td>\n",
              "      <td>3</td>\n",
              "      <td>1</td>\n",
              "      <td>1</td>\n",
              "      <td>0.226957</td>\n",
              "      <td>0.229270</td>\n",
              "      <td>0.436957</td>\n",
              "      <td>0.186900</td>\n",
              "      <td>82</td>\n",
              "      <td>1518</td>\n",
              "      <td>1600</td>\n",
              "    </tr>\n",
              "  </tbody>\n",
              "</table>\n",
              "</div>"
            ],
            "text/plain": [
              "   instant      dteday  season  yr  ...  windspeed  casual  registered   cnt\n",
              "0        1  2011-01-01       1   0  ...   0.160446     331         654   985\n",
              "1        2  2011-01-02       1   0  ...   0.248539     131         670   801\n",
              "2        3  2011-01-03       1   0  ...   0.248309     120        1229  1349\n",
              "3        4  2011-01-04       1   0  ...   0.160296     108        1454  1562\n",
              "4        5  2011-01-05       1   0  ...   0.186900      82        1518  1600\n",
              "\n",
              "[5 rows x 16 columns]"
            ]
          },
          "metadata": {
            "tags": []
          },
          "execution_count": 30
        }
      ]
    },
    {
      "cell_type": "code",
      "metadata": {
        "colab": {
          "base_uri": "https://localhost:8080/"
        },
        "id": "-08Zkua2Hf8S",
        "outputId": "0cbe17dd-e1d4-48fe-a2bc-1faa4e24e5b8"
      },
      "source": [
        "data_train.isnull().sum()"
      ],
      "execution_count": 31,
      "outputs": [
        {
          "output_type": "execute_result",
          "data": {
            "text/plain": [
              "instant       0\n",
              "dteday        0\n",
              "season        0\n",
              "yr            0\n",
              "mnth          0\n",
              "holiday       0\n",
              "weekday       0\n",
              "workingday    0\n",
              "weathersit    0\n",
              "temp          0\n",
              "atemp         0\n",
              "hum           0\n",
              "windspeed     0\n",
              "casual        0\n",
              "registered    0\n",
              "cnt           0\n",
              "dtype: int64"
            ]
          },
          "metadata": {
            "tags": []
          },
          "execution_count": 31
        }
      ]
    },
    {
      "cell_type": "code",
      "metadata": {
        "id": "Ffa9tFYDHlaM"
      },
      "source": [
        "dates = data_train['dteday'].values\n",
        "temp  = data_train['temp'].values"
      ],
      "execution_count": 32,
      "outputs": []
    },
    {
      "cell_type": "code",
      "metadata": {
        "colab": {
          "base_uri": "https://localhost:8080/",
          "height": 341
        },
        "id": "2O_SSUc9HwR8",
        "outputId": "49bea78f-df82-4bf5-b88c-957fa426a0d2"
      },
      "source": [
        "plt.figure(figsize=(15,5))\n",
        "plt.plot(dates, temp)\n",
        "plt.title('Usage average',\n",
        "          fontsize=20);"
      ],
      "execution_count": 33,
      "outputs": [
        {
          "output_type": "display_data",
          "data": {
            "image/png": "[encoded data removed]",
            "text/plain": [
              "<Figure size 1080x360 with 1 Axes>"
            ]
          },
          "metadata": {
            "tags": [],
            "needs_background": "light"
          }
        }
      ]
    },
    {
      "cell_type": "code",
      "metadata": {
        "id": "0Q6bWiSXKKEV"
      },
      "source": [
        "from sklearn.model_selection import train_test_split\n",
        "X_train, X_test, Y_train, Y_test = train_test_split(dates, temp, test_size=0.2)"
      ],
      "execution_count": 37,
      "outputs": []
    },
    {
      "cell_type": "code",
      "metadata": {
        "id": "PvUh8UmJH396"
      },
      "source": [
        "def windowed_dataset(series, window_size, batch_size, shuffle_buffer):\n",
        "    series = tf.expand_dims(series, axis=-1)\n",
        "    ds = tf.data.Dataset.from_tensor_slices(series)\n",
        "    ds = ds.window(window_size + 1, shift=1, drop_remainder=True)\n",
        "    ds = ds.flat_map(lambda w: w.batch(window_size + 1))\n",
        "    ds = ds.shuffle(shuffle_buffer)\n",
        "    ds = ds.map(lambda w: (w[:-1], w[-1:]))\n",
        "    return ds.batch(batch_size).prefetch(1)"
      ],
      "execution_count": 38,
      "outputs": []
    },
    {
      "cell_type": "code",
      "metadata": {
        "id": "tdTUBGh4H50d"
      },
      "source": [
        "train_set = windowed_dataset(Y_train, window_size=60, batch_size=100, shuffle_buffer=1000)\n",
        "model = tf.keras.models.Sequential([\n",
        "  tf.keras.layers.LSTM(60, return_sequences=True),\n",
        "  tf.keras.layers.LSTM(60),\n",
        "  tf.keras.layers.Dense(30, activation=\"relu\"),\n",
        "  tf.keras.layers.Dense(10, activation=\"relu\"),\n",
        "  tf.keras.layers.Dense(1),\n",
        "])"
      ],
      "execution_count": 39,
      "outputs": []
    },
    {
      "cell_type": "code",
      "metadata": {
        "colab": {
          "base_uri": "https://localhost:8080/"
        },
        "id": "SbI7Jx_3H7R1",
        "outputId": "7c8edbdd-9a76-4c57-fbe0-93b046bb482f"
      },
      "source": [
        "optimizer = tf.keras.optimizers.SGD(lr=1.0000e-04, momentum=0.9)\n",
        "model.compile(loss=tf.keras.losses.Huber(),\n",
        "              optimizer=optimizer,\n",
        "              metrics=[\"mae\"])\n",
        "history = model.fit(train_set,epochs=100)"
      ],
      "execution_count": 40,
      "outputs": [
        {
          "output_type": "stream",
          "text": [
            "/usr/local/lib/python3.7/dist-packages/tensorflow/python/keras/optimizer_v2/optimizer_v2.py:375: UserWarning: The `lr` argument is deprecated, use `learning_rate` instead.\n",
            "  \"The `lr` argument is deprecated, use `learning_rate` instead.\")\n"
          ],
          "name": "stderr"
        },
        {
          "output_type": "stream",
          "text": [
            "Epoch 1/100\n",
            "6/6 [==============================] - 4s 96ms/step - loss: 0.1625 - mae: 0.5407\n",
            "Epoch 2/100\n",
            "6/6 [==============================] - 1s 85ms/step - loss: 0.1588 - mae: 0.5338\n",
            "Epoch 3/100\n",
            "6/6 [==============================] - 1s 84ms/step - loss: 0.1532 - mae: 0.5231\n",
            "Epoch 4/100\n",
            "6/6 [==============================] - 1s 84ms/step - loss: 0.1470 - mae: 0.5112\n",
            "Epoch 5/100\n",
            "6/6 [==============================] - 1s 88ms/step - loss: 0.1417 - mae: 0.5009\n",
            "Epoch 6/100\n",
            "6/6 [==============================] - 1s 84ms/step - loss: 0.1367 - mae: 0.4908\n",
            "Epoch 7/100\n",
            "6/6 [==============================] - 1s 82ms/step - loss: 0.1324 - mae: 0.4819\n",
            "Epoch 8/100\n",
            "6/6 [==============================] - 1s 93ms/step - loss: 0.1287 - mae: 0.4743\n",
            "Epoch 9/100\n",
            "6/6 [==============================] - 1s 84ms/step - loss: 0.1254 - mae: 0.4672\n",
            "Epoch 10/100\n",
            "6/6 [==============================] - 1s 84ms/step - loss: 0.1222 - mae: 0.4603\n",
            "Epoch 11/100\n",
            "6/6 [==============================] - 1s 82ms/step - loss: 0.1193 - mae: 0.4540\n",
            "Epoch 12/100\n",
            "6/6 [==============================] - 1s 87ms/step - loss: 0.1170 - mae: 0.4489\n",
            "Epoch 13/100\n",
            "6/6 [==============================] - 1s 85ms/step - loss: 0.1151 - mae: 0.4447\n",
            "Epoch 14/100\n",
            "6/6 [==============================] - 1s 84ms/step - loss: 0.1134 - mae: 0.4409\n",
            "Epoch 15/100\n",
            "6/6 [==============================] - 1s 86ms/step - loss: 0.1118 - mae: 0.4373\n",
            "Epoch 16/100\n",
            "6/6 [==============================] - 1s 84ms/step - loss: 0.1102 - mae: 0.4335\n",
            "Epoch 17/100\n",
            "6/6 [==============================] - 1s 83ms/step - loss: 0.1084 - mae: 0.4293\n",
            "Epoch 18/100\n",
            "6/6 [==============================] - 1s 82ms/step - loss: 0.1065 - mae: 0.4249\n",
            "Epoch 19/100\n",
            "6/6 [==============================] - 1s 83ms/step - loss: 0.1045 - mae: 0.4203\n",
            "Epoch 20/100\n",
            "6/6 [==============================] - 1s 88ms/step - loss: 0.1025 - mae: 0.4156\n",
            "Epoch 21/100\n",
            "6/6 [==============================] - 1s 84ms/step - loss: 0.1005 - mae: 0.4107\n",
            "Epoch 22/100\n",
            "6/6 [==============================] - 1s 93ms/step - loss: 0.0986 - mae: 0.4060\n",
            "Epoch 23/100\n",
            "6/6 [==============================] - 1s 84ms/step - loss: 0.0967 - mae: 0.4013\n",
            "Epoch 24/100\n",
            "6/6 [==============================] - 1s 84ms/step - loss: 0.0948 - mae: 0.3967\n",
            "Epoch 25/100\n",
            "6/6 [==============================] - 1s 84ms/step - loss: 0.0930 - mae: 0.3921\n",
            "Epoch 26/100\n",
            "6/6 [==============================] - 1s 86ms/step - loss: 0.0912 - mae: 0.3876\n",
            "Epoch 27/100\n",
            "6/6 [==============================] - 1s 83ms/step - loss: 0.0895 - mae: 0.3832\n",
            "Epoch 28/100\n",
            "6/6 [==============================] - 1s 81ms/step - loss: 0.0878 - mae: 0.3788\n",
            "Epoch 29/100\n",
            "6/6 [==============================] - 1s 89ms/step - loss: 0.0862 - mae: 0.3745\n",
            "Epoch 30/100\n",
            "6/6 [==============================] - 1s 83ms/step - loss: 0.0846 - mae: 0.3703\n",
            "Epoch 31/100\n",
            "6/6 [==============================] - 1s 83ms/step - loss: 0.0830 - mae: 0.3661\n",
            "Epoch 32/100\n",
            "6/6 [==============================] - 1s 84ms/step - loss: 0.0815 - mae: 0.3620\n",
            "Epoch 33/100\n",
            "6/6 [==============================] - 1s 86ms/step - loss: 0.0800 - mae: 0.3580\n",
            "Epoch 34/100\n",
            "6/6 [==============================] - 1s 89ms/step - loss: 0.0786 - mae: 0.3540\n",
            "Epoch 35/100\n",
            "6/6 [==============================] - 1s 86ms/step - loss: 0.0771 - mae: 0.3501\n",
            "Epoch 36/100\n",
            "6/6 [==============================] - 1s 83ms/step - loss: 0.0758 - mae: 0.3462\n",
            "Epoch 37/100\n",
            "6/6 [==============================] - 1s 88ms/step - loss: 0.0744 - mae: 0.3424\n",
            "Epoch 38/100\n",
            "6/6 [==============================] - 1s 85ms/step - loss: 0.0731 - mae: 0.3386\n",
            "Epoch 39/100\n",
            "6/6 [==============================] - 1s 82ms/step - loss: 0.0718 - mae: 0.3349\n",
            "Epoch 40/100\n",
            "6/6 [==============================] - 1s 88ms/step - loss: 0.0705 - mae: 0.3312\n",
            "Epoch 41/100\n",
            "6/6 [==============================] - 1s 82ms/step - loss: 0.0692 - mae: 0.3276\n",
            "Epoch 42/100\n",
            "6/6 [==============================] - 1s 86ms/step - loss: 0.0680 - mae: 0.3241\n",
            "Epoch 43/100\n",
            "6/6 [==============================] - 1s 85ms/step - loss: 0.0668 - mae: 0.3206\n",
            "Epoch 44/100\n",
            "6/6 [==============================] - 1s 84ms/step - loss: 0.0657 - mae: 0.3172\n",
            "Epoch 45/100\n",
            "6/6 [==============================] - 1s 94ms/step - loss: 0.0645 - mae: 0.3138\n",
            "Epoch 46/100\n",
            "6/6 [==============================] - 1s 87ms/step - loss: 0.0634 - mae: 0.3105\n",
            "Epoch 47/100\n",
            "6/6 [==============================] - 1s 85ms/step - loss: 0.0623 - mae: 0.3073\n",
            "Epoch 48/100\n",
            "6/6 [==============================] - 1s 83ms/step - loss: 0.0613 - mae: 0.3040\n",
            "Epoch 49/100\n",
            "6/6 [==============================] - 1s 88ms/step - loss: 0.0602 - mae: 0.3009\n",
            "Epoch 50/100\n",
            "6/6 [==============================] - 1s 84ms/step - loss: 0.0592 - mae: 0.2978\n",
            "Epoch 51/100\n",
            "6/6 [==============================] - 1s 83ms/step - loss: 0.0582 - mae: 0.2947\n",
            "Epoch 52/100\n",
            "6/6 [==============================] - 1s 87ms/step - loss: 0.0572 - mae: 0.2916\n",
            "Epoch 53/100\n",
            "6/6 [==============================] - 1s 85ms/step - loss: 0.0563 - mae: 0.2887\n",
            "Epoch 54/100\n",
            "6/6 [==============================] - 1s 85ms/step - loss: 0.0553 - mae: 0.2858\n",
            "Epoch 55/100\n",
            "6/6 [==============================] - 1s 84ms/step - loss: 0.0544 - mae: 0.2829\n",
            "Epoch 56/100\n",
            "6/6 [==============================] - 1s 85ms/step - loss: 0.0536 - mae: 0.2802\n",
            "Epoch 57/100\n",
            "6/6 [==============================] - 1s 84ms/step - loss: 0.0527 - mae: 0.2774\n",
            "Epoch 58/100\n",
            "6/6 [==============================] - 1s 83ms/step - loss: 0.0518 - mae: 0.2747\n",
            "Epoch 59/100\n",
            "6/6 [==============================] - 1s 87ms/step - loss: 0.0510 - mae: 0.2720\n",
            "Epoch 60/100\n",
            "6/6 [==============================] - 1s 83ms/step - loss: 0.0502 - mae: 0.2693\n",
            "Epoch 61/100\n",
            "6/6 [==============================] - 1s 86ms/step - loss: 0.0494 - mae: 0.2667\n",
            "Epoch 62/100\n",
            "6/6 [==============================] - 1s 85ms/step - loss: 0.0486 - mae: 0.2641\n",
            "Epoch 63/100\n",
            "6/6 [==============================] - 1s 83ms/step - loss: 0.0478 - mae: 0.2615\n",
            "Epoch 64/100\n",
            "6/6 [==============================] - 1s 85ms/step - loss: 0.0471 - mae: 0.2590\n",
            "Epoch 65/100\n",
            "6/6 [==============================] - 1s 94ms/step - loss: 0.0464 - mae: 0.2565\n",
            "Epoch 66/100\n",
            "6/6 [==============================] - 1s 85ms/step - loss: 0.0457 - mae: 0.2541\n",
            "Epoch 67/100\n",
            "6/6 [==============================] - 1s 84ms/step - loss: 0.0450 - mae: 0.2517\n",
            "Epoch 68/100\n",
            "6/6 [==============================] - 1s 82ms/step - loss: 0.0443 - mae: 0.2494\n",
            "Epoch 69/100\n",
            "6/6 [==============================] - 1s 94ms/step - loss: 0.0436 - mae: 0.2471\n",
            "Epoch 70/100\n",
            "6/6 [==============================] - 1s 86ms/step - loss: 0.0430 - mae: 0.2449\n",
            "Epoch 71/100\n",
            "6/6 [==============================] - 1s 87ms/step - loss: 0.0423 - mae: 0.2428\n",
            "Epoch 72/100\n",
            "6/6 [==============================] - 1s 83ms/step - loss: 0.0417 - mae: 0.2407\n",
            "Epoch 73/100\n",
            "6/6 [==============================] - 1s 82ms/step - loss: 0.0411 - mae: 0.2386\n",
            "Epoch 74/100\n",
            "6/6 [==============================] - 1s 89ms/step - loss: 0.0405 - mae: 0.2366\n",
            "Epoch 75/100\n",
            "6/6 [==============================] - 1s 87ms/step - loss: 0.0400 - mae: 0.2347\n",
            "Epoch 76/100\n",
            "6/6 [==============================] - 1s 85ms/step - loss: 0.0394 - mae: 0.2327\n",
            "Epoch 77/100\n",
            "6/6 [==============================] - 1s 83ms/step - loss: 0.0389 - mae: 0.2309\n",
            "Epoch 78/100\n",
            "6/6 [==============================] - 1s 88ms/step - loss: 0.0383 - mae: 0.2291\n",
            "Epoch 79/100\n",
            "6/6 [==============================] - 1s 85ms/step - loss: 0.0378 - mae: 0.2273\n",
            "Epoch 80/100\n",
            "6/6 [==============================] - 1s 83ms/step - loss: 0.0373 - mae: 0.2255\n",
            "Epoch 81/100\n",
            "6/6 [==============================] - 1s 84ms/step - loss: 0.0368 - mae: 0.2238\n",
            "Epoch 82/100\n",
            "6/6 [==============================] - 1s 86ms/step - loss: 0.0363 - mae: 0.2222\n",
            "Epoch 83/100\n",
            "6/6 [==============================] - 1s 85ms/step - loss: 0.0358 - mae: 0.2206\n",
            "Epoch 84/100\n",
            "6/6 [==============================] - 1s 83ms/step - loss: 0.0353 - mae: 0.2190\n",
            "Epoch 85/100\n",
            "6/6 [==============================] - 1s 85ms/step - loss: 0.0349 - mae: 0.2175\n",
            "Epoch 86/100\n",
            "6/6 [==============================] - 1s 88ms/step - loss: 0.0344 - mae: 0.2159\n",
            "Epoch 87/100\n",
            "6/6 [==============================] - 1s 85ms/step - loss: 0.0340 - mae: 0.2144\n",
            "Epoch 88/100\n",
            "6/6 [==============================] - 1s 86ms/step - loss: 0.0336 - mae: 0.2129\n",
            "Epoch 89/100\n",
            "6/6 [==============================] - 1s 82ms/step - loss: 0.0331 - mae: 0.2115\n",
            "Epoch 90/100\n",
            "6/6 [==============================] - 1s 82ms/step - loss: 0.0327 - mae: 0.2101\n",
            "Epoch 91/100\n",
            "6/6 [==============================] - 1s 85ms/step - loss: 0.0323 - mae: 0.2087\n",
            "Epoch 92/100\n",
            "6/6 [==============================] - 1s 82ms/step - loss: 0.0319 - mae: 0.2074\n",
            "Epoch 93/100\n",
            "6/6 [==============================] - 1s 93ms/step - loss: 0.0315 - mae: 0.2061\n",
            "Epoch 94/100\n",
            "6/6 [==============================] - 1s 85ms/step - loss: 0.0312 - mae: 0.2048\n",
            "Epoch 95/100\n",
            "6/6 [==============================] - 1s 82ms/step - loss: 0.0308 - mae: 0.2036\n",
            "Epoch 96/100\n",
            "6/6 [==============================] - 1s 85ms/step - loss: 0.0304 - mae: 0.2024\n",
            "Epoch 97/100\n",
            "6/6 [==============================] - 1s 84ms/step - loss: 0.0301 - mae: 0.2012\n",
            "Epoch 98/100\n",
            "6/6 [==============================] - 1s 84ms/step - loss: 0.0297 - mae: 0.2001\n",
            "Epoch 99/100\n",
            "6/6 [==============================] - 1s 83ms/step - loss: 0.0294 - mae: 0.1990\n",
            "Epoch 100/100\n",
            "6/6 [==============================] - 1s 85ms/step - loss: 0.0291 - mae: 0.1978\n"
          ],
          "name": "stdout"
        }
      ]
    },
    {
      "cell_type": "code",
      "metadata": {
        "id": "Dyxj075QH8uE"
      },
      "source": [
        ""
      ],
      "execution_count": null,
      "outputs": []
    }
  ]
}